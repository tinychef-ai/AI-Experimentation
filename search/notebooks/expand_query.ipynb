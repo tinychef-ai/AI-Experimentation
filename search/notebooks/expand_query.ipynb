{
 "cells": [
  {
   "cell_type": "code",
   "execution_count": 41,
   "id": "cda7b23b",
   "metadata": {},
   "outputs": [],
   "source": [
    "from langchain.prompts import PromptTemplate\n",
    "from langchain.chains import LLMChain\n",
    "from langchain.chat_models import ChatOpenAI\n",
    "import csv\n",
    "\n",
    "\n",
    "llm = ChatOpenAI(model_name=\"gpt-3.5-turbo-0613\", temperature=0.7)\n",
    "\n",
    "qe_prompt = PromptTemplate(\n",
    "    input_variables=[\"query\"],\n",
    "    template=\"\"\"as a culinary expert expand recipe search query '''{query}''' \n",
    "    into one descriptive sentence. use culinary creative liberty in interpreting the query.\n",
    "    \n",
    "    Provide output in json format with following fields:\n",
    "    1. expanded_query: recipe search query expanded into descriptive one sentence. return\n",
    "    empty string if unable to expand the query.\n",
    "    \"\"\",\n",
    "\n",
    ")\n",
    "\n",
    "qe_chain = LLMChain(llm=llm, prompt=qe_prompt)\n",
    "\n",
    "\n",
    "def expand_query(query):\n",
    "    output = qe_chain.run(query)\n",
    "    return output"
   ]
  },
  {
   "cell_type": "code",
   "execution_count": 42,
   "id": "35fb06eb",
   "metadata": {},
   "outputs": [
    {
     "name": "stdout",
     "output_type": "stream",
     "text": [
      "{\n",
      "    \"expanded_query\": \"Find delicious and creative recipes using mushrooms that start with the letter 'C' in their name.\"\n",
      "}\n"
     ]
    }
   ],
   "source": [
    "print(expand_query(\"c c mushroom\"))"
   ]
  },
  {
   "cell_type": "code",
   "execution_count": 43,
   "id": "9b585f80",
   "metadata": {},
   "outputs": [
    {
     "name": "stdout",
     "output_type": "stream",
     "text": [
      "{\n",
      "    \"expanded_query\": \"Discover a variety of mouthwatering burger recipes that are sure to satisfy your cravings and make you feel like a burger connoisseur.\"\n",
      "}\n"
     ]
    }
   ],
   "source": [
    "print(expand_query(\"burger kee burger men\"))"
   ]
  },
  {
   "cell_type": "code",
   "execution_count": 44,
   "id": "b543fef9",
   "metadata": {},
   "outputs": [
    {
     "name": "stdout",
     "output_type": "stream",
     "text": [
      "{\n",
      "  \"expanded_query\": \"A delicious and flavorful dish made with paneer, also known as Indian cottage cheese, that is marinated in aromatic spices and then deep-fried to perfection.\"\n",
      "}\n"
     ]
    }
   ],
   "source": [
    "print(expand_query(\"paneer bujji\"))"
   ]
  },
  {
   "cell_type": "code",
   "execution_count": 45,
   "id": "3a6e2b62",
   "metadata": {},
   "outputs": [
    {
     "name": "stdout",
     "output_type": "stream",
     "text": [
      "{\n",
      "    \"expanded_query\": \"A simple and delicious dessert recipe using only two ingredients, Oreos, and condensed milk, perfect for satisfying your sweet tooth.\"\n",
      "}\n"
     ]
    }
   ],
   "source": [
    "print(expand_query(\"2 ingredient oreo\"))"
   ]
  },
  {
   "cell_type": "code",
   "execution_count": 46,
   "id": "7c06af60",
   "metadata": {},
   "outputs": [
    {
     "name": "stdout",
     "output_type": "stream",
     "text": [
      "{\n",
      "    \"expanded_query\": \"A delicious and flavorful chicken curry served with vada pav, a popular Indian street food consisting of a spicy potato fritter sandwiched between soft buns.\"\n",
      "}\n"
     ]
    }
   ],
   "source": [
    "print(expand_query(\"vada pav chicken curry\"))"
   ]
  },
  {
   "cell_type": "code",
   "execution_count": 47,
   "id": "dbd0fb2a",
   "metadata": {},
   "outputs": [
    {
     "name": "stdout",
     "output_type": "stream",
     "text": [
      "{\n",
      "  \"expanded_query\": \"Aloo tamaatar kee sabzi is a delicious Indian curry made with potatoes and tomatoes, cooked in a blend of aromatic spices and served as a side dish with rice or roti.\"\n",
      "}\n"
     ]
    }
   ],
   "source": [
    "print(expand_query(\"aloo tamaatar kee sabzi\"))"
   ]
  },
  {
   "cell_type": "code",
   "execution_count": 48,
   "id": "29714f37",
   "metadata": {},
   "outputs": [
    {
     "name": "stdout",
     "output_type": "stream",
     "text": [
      "{\n",
      "    \"expanded_query\": \"Discover a unique and delicious recipe for Gippy Maggi, a fusion dish that combines the flavors of traditional Indian Maggi noodles with a twist of Mexican spices and ingredients.\"\n",
      "}\n"
     ]
    }
   ],
   "source": [
    "print(expand_query(\"gippy maggi\"))"
   ]
  },
  {
   "cell_type": "code",
   "execution_count": 50,
   "id": "4160a5c7",
   "metadata": {},
   "outputs": [
    {
     "name": "stderr",
     "output_type": "stream",
     "text": [
      "Retrying langchain.chat_models.openai.ChatOpenAI.completion_with_retry.<locals>._completion_with_retry in 1.0 seconds as it raised APIError: Bad gateway. {\"error\":{\"code\":502,\"message\":\"Bad gateway.\",\"param\":null,\"type\":\"cf_bad_gateway\"}} 502 {'error': {'code': 502, 'message': 'Bad gateway.', 'param': None, 'type': 'cf_bad_gateway'}} {'Date': 'Thu, 29 Jun 2023 08:16:37 GMT', 'Content-Type': 'application/json', 'Content-Length': '84', 'Connection': 'keep-alive', 'X-Frame-Options': 'SAMEORIGIN', 'Referrer-Policy': 'same-origin', 'Cache-Control': 'private, max-age=0, no-store, no-cache, must-revalidate, post-check=0, pre-check=0', 'Expires': 'Thu, 01 Jan 1970 00:00:01 GMT', 'Server': 'cloudflare', 'CF-RAY': '7decb2dcf8ad3c01-BLR', 'alt-svc': 'h3=\":443\"; ma=86400'}.\n"
     ]
    },
    {
     "name": "stdout",
     "output_type": "stream",
     "text": [
      "{\n",
      "    \"expanded_query\": \"A vibrant and refreshing recipe featuring the bright flavors of oranges and bird-inspired ingredients, perfect for adding a citrusy twist to your culinary creations.\"\n",
      "}\n"
     ]
    }
   ],
   "source": [
    "print(expand_query(\"orange bird\"))"
   ]
  },
  {
   "cell_type": "code",
   "execution_count": null,
   "id": "824c0660",
   "metadata": {},
   "outputs": [],
   "source": []
  }
 ],
 "metadata": {
  "kernelspec": {
   "display_name": "Python 3 (ipykernel)",
   "language": "python",
   "name": "python3"
  },
  "language_info": {
   "codemirror_mode": {
    "name": "ipython",
    "version": 3
   },
   "file_extension": ".py",
   "mimetype": "text/x-python",
   "name": "python",
   "nbconvert_exporter": "python",
   "pygments_lexer": "ipython3",
   "version": "3.11.2"
  }
 },
 "nbformat": 4,
 "nbformat_minor": 5
}
