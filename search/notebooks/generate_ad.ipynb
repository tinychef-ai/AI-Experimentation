{
 "cells": [
  {
   "cell_type": "code",
   "execution_count": 12,
   "id": "f61454d2",
   "metadata": {},
   "outputs": [],
   "source": [
    "from langchain.llms import OpenAI\n",
    "from langchain.prompts import PromptTemplate\n",
    "from langchain.chains import LLMChain\n"
   ]
  },
  {
   "cell_type": "code",
   "execution_count": 86,
   "id": "f5327e5a",
   "metadata": {},
   "outputs": [],
   "source": [
    "llm = OpenAI(temperature=0.0)\n"
   ]
  },
  {
   "cell_type": "code",
   "execution_count": 121,
   "id": "3a706b2f",
   "metadata": {},
   "outputs": [
    {
     "data": {
      "text/plain": [
       "\"variant=31790794545\\n\\nDiscover the perfect coffee experience with Wonderchef's Regalia Fully Automatic Coffee Machine, featuring unique attributes like one-touch operation and adjustable coffee strength.\""
      ]
     },
     "execution_count": 121,
     "metadata": {},
     "output_type": "execute_result"
    }
   ],
   "source": [
    "prompt = PromptTemplate(\n",
    "    input_variables=[\"product_link\"],\n",
    "    template=\"\"\"create a 1 sentence ad to be used as audio ad. \\n\n",
    "    fetch contents from product link mentioned below and extract the following\n",
    "       1. manufacturing brand name \\n\n",
    "       2. product title \\n\n",
    "       3. product price \\n\n",
    "       4. other unique product attributes. \\n\n",
    "    ad should mention the extracted manufacturing brand name \\n\n",
    "    ad should mention the extracted product title \\n\n",
    "    ad should highligh the extracted unique product qualities \\n\n",
    "    ad should not mention the price of the product \\n\n",
    "    ad should not mention the website where users can buy the product \\n\n",
    "    product link: {product_link}?\"\"\",\n",
    ")\n",
    "\n",
    "chain = LLMChain(llm=llm, prompt=prompt)\n",
    "\n",
    "chain.run(\"https://www.wonderchef.com/collections/coffee-machine/products/regalia-fully-automatic-coffee-machine\")\n"
   ]
  },
  {
   "cell_type": "code",
   "execution_count": 122,
   "id": "77e46684",
   "metadata": {},
   "outputs": [
    {
     "data": {
      "text/plain": [
       "'\\n\\nDiscover the amazing SWASTHA COOKWARE Square Tadhkapan, made with high-quality material and featuring unique attributes that will make your cooking experience even better!'"
      ]
     },
     "execution_count": 122,
     "metadata": {},
     "output_type": "execute_result"
    }
   ],
   "source": [
    "chain.run(\"https://www.amazon.in/SWASTHA-COOKWARE-Material-Square-Tadhkapan_Square/dp/B09QSYG2K1?ref_=ast_sto_dp&th=1\")"
   ]
  },
  {
   "cell_type": "code",
   "execution_count": 123,
   "id": "2d3b1cf5",
   "metadata": {},
   "outputs": [
    {
     "data": {
      "text/plain": [
       "'\\n\\nDiscover the amazing Swastha Cookware from Costbo, featuring unique product qualities that will make your cooking experience even better!'"
      ]
     },
     "execution_count": 123,
     "metadata": {},
     "output_type": "execute_result"
    }
   ],
   "source": [
    "chain.run(\"https://shop.costbo.com/swastha-cookware/singleProduct/6d37255f4c7a434caf74d6448d904cd3\")\n"
   ]
  },
  {
   "cell_type": "code",
   "execution_count": 124,
   "id": "29576016",
   "metadata": {},
   "outputs": [
    {
     "data": {
      "text/plain": [
       "'\\n\\nDiscover the amazing Swastha Cookware from the renowned brand, featuring unique qualities that will make your cooking experience even better!'"
      ]
     },
     "execution_count": 124,
     "metadata": {},
     "output_type": "execute_result"
    }
   ],
   "source": [
    "chain.run(\"https://shop.costbo.com/swastha-cookware/singleProduct/7197140f9dca45eeab532c2e6fa4e5b8\")\n"
   ]
  },
  {
   "cell_type": "code",
   "execution_count": 128,
   "id": "631e6e68",
   "metadata": {},
   "outputs": [
    {
     "name": "stdout",
     "output_type": "stream",
     "text": [
      "You need to enable JavaScript to run this app.\n"
     ]
    },
    {
     "name": "stderr",
     "output_type": "stream",
     "text": [
      "/var/folders/j0/w53m3rtj2_l_f158w26_792h0000gn/T/ipykernel_92663/3086961793.py:17: DeprecationWarning: The 'text' argument to find()-type methods is deprecated. Use 'string' instead.\n",
      "  text_elements = soup.find_all(text=True)\n"
     ]
    }
   ],
   "source": [
    "import requests\n",
    "from bs4 import BeautifulSoup\n",
    "from selenium import webdriver\n",
    "\n",
    "# Specify the URL of the webpage you want to extract text from\n",
    "url = 'https://shop.costbo.com/swastha-cookware/singleProduct/7197140f9dca45eeab532c2e6fa4e5b8'\n",
    "\n",
    "# Send a GET request to the webpage\n",
    "driver = webdriver.Chrome()\n",
    "driver.get(url)\n",
    "#response = requests.get(url)\n",
    "\n",
    "# Create a BeautifulSoup object by passing the response content and specifying the parser\n",
    "soup = BeautifulSoup(driver.page_source, 'html.parser')\n",
    "\n",
    "# Find all the text elements on the webpage\n",
    "text_elements = soup.find_all(text=True)\n",
    "\n",
    "# Filter out unnecessary tags and join the extracted text\n",
    "extracted_text = ' '.join([element.strip() for element in text_elements if element.parent.name not in ['style', 'script', 'head', 'title']])\n",
    "\n",
    "# Print the extracted text\n",
    "print(extracted_text)"
   ]
  },
  {
   "cell_type": "code",
   "execution_count": null,
   "id": "4f867f3d",
   "metadata": {},
   "outputs": [],
   "source": []
  }
 ],
 "metadata": {
  "kernelspec": {
   "display_name": "Python 3 (ipykernel)",
   "language": "python",
   "name": "python3"
  },
  "language_info": {
   "codemirror_mode": {
    "name": "ipython",
    "version": 3
   },
   "file_extension": ".py",
   "mimetype": "text/x-python",
   "name": "python",
   "nbconvert_exporter": "python",
   "pygments_lexer": "ipython3",
   "version": "3.11.2"
  }
 },
 "nbformat": 4,
 "nbformat_minor": 5
}
